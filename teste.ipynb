{
 "cells": [
  {
   "cell_type": "code",
   "execution_count": 1,
   "metadata": {},
   "outputs": [
    {
     "name": "stderr",
     "output_type": "stream",
     "text": [
      "c:\\Users\\PedroLustosa\\AppData\\Local\\Programs\\Python\\Python311\\Lib\\site-packages\\tqdm\\auto.py:21: TqdmWarning: IProgress not found. Please update jupyter and ipywidgets. See https://ipywidgets.readthedocs.io/en/stable/user_install.html\n",
      "  from .autonotebook import tqdm as notebook_tqdm\n"
     ]
    }
   ],
   "source": [
    "# Example usage in another file\n",
    "from process_improvement  import ProcessImprovementQA"
   ]
  },
  {
   "cell_type": "code",
   "execution_count": 2,
   "metadata": {},
   "outputs": [
    {
     "name": "stderr",
     "output_type": "stream",
     "text": [
      "  0%|          | 0/3 [00:00<?, ?it/s]WARNING:root:\t*** In DSPy 2.5, all LM clients except `dspy.LM` are deprecated. ***\n",
      " \t\tYou are using the client GPT3, which will be removed in DSPy 2.6.\n",
      " \t\tChanging the client is straightforward and will let you use new features (Adapters) that improve the consistency of LM outputs, especially when using chat LMs. \n",
      "\n",
      " \t\tLearn more about the changes and how to migrate at\n",
      " \t\thttps://github.com/stanfordnlp/dspy/blob/main/examples/migration.ipynb\n",
      "100%|██████████| 3/3 [00:09<00:00,  3.32s/it]\n"
     ]
    },
    {
     "name": "stdout",
     "output_type": "stream",
     "text": [
      "Bootstrapped 3 full traces after 3 examples in round 0.\n",
      "{'Solução': 'Implementar um sistema de pagamentos agendados para garantir que os pagamentos sejam realizados dentro dos prazos estabelecidos.', 'Backlog de Atividades': 'Selecionar e configurar software de agendamento de pagamentos, Definir frequência de pagamentos, Treinar a equipe sobre o novo sistema.', 'Investimento': 'Custo do software e treinamento.', 'Ganhos': 'Garantia de pagamentos pontuais, Redução do risco de atrasos, Melhoria na gestão de fluxo de caixa.'}\n"
     ]
    }
   ],
   "source": [
    "# Initialize the system (optionally provide API key)\n",
    "qa_system = ProcessImprovementQA()\n",
    "\n",
    "# Your input data\n",
    "new_resultados = [ { \"Oportunidade de Melhoria\": \"Automatização de Captura de Informações de Pagamentos\", \"Solução\": \"Desenvolver uma integração com o sistema bancário para captura automática de informações sobre pagamentos realizados e recusados.\", \"Backlog de Atividades\": \"Implementar API de integração com bancos\\nConfigurar notificações automáticas\\nRealizar testes de integração\", \"Investimento\": \"Horas para desenvolvimento de customizações e implantação do projeto.\", \"Ganhos\": \"Automação de atividades manuais e repetitivas\\nMaior agilidade no processo\\nRedução do risco de erros operacionais\\nSimplificação da disseminação de informações entre as partes interessadas.\" }, { \"Oportunidade de Melhoria\": \"Revisão de Acordo de Nível de Serviço (SLAs)\", \"Solução\": \"Realizar revisão de SLAs definindo possíveis indicadores de acompanhamento para o processo de pagamentos.\", \"Backlog de Atividades\": \"Analisar SLAs atuais\\nDefinir novos indicadores de desempenho\\nTreinar equipe sobre os novos padrões.\", \"Investimento\": \"Tempo de consultoria para análise e definição de SLAs.\", \"Ganhos\": \"Melhoria no monitoramento do processo\\nIdentificação precoce de atrasos\\nAumento da satisfação dos stakeholders.\" }, { \"Oportunidade de Melhoria\": \"Padronização de Entrega de Documentos\", \"Solução\": \"Padronizar as atividades relacionadas à entrega de documentos para pagamento, conforme a digitalização do contas a pagar.\", \"Backlog de Atividades\": \"Criar um manual de procedimentos\\nTreinar a equipe\\nImplementar um sistema de controle de documentos digital.\", \"Investimento\": \"Desenvolvimento de documentação e treinamento.\", \"Ganhos\": \"Redução de erros na entrega de documentos\\nMaior eficiência no processo\\nMelhor controle de documentos.\" }]\n",
    "\n",
    "# Get improvement suggestion\n",
    "result = qa_system.get_improvement_suggestion(\n",
    "    new_resultados=new_resultados,\n",
    "    oportunidade_melhoria=\"Pagamentos agendados\",\n",
    "    ramo_empresa=\"Financeiro\",\n",
    "    direcao=\"Pagar no prazo\",\n",
    "    nome_processo=\"Processo de Pagamentos\",\n",
    "    atividade=\"Pagamentos\",\n",
    "    evento=\"Captura de Informações de Pagamentos\",\n",
    "    causa=\"Pagamentos atrasados\"\n",
    ")\n",
    "\n",
    "print(result)"
   ]
  }
 ],
 "metadata": {
  "kernelspec": {
   "display_name": "Python 3",
   "language": "python",
   "name": "python3"
  },
  "language_info": {
   "codemirror_mode": {
    "name": "ipython",
    "version": 3
   },
   "file_extension": ".py",
   "mimetype": "text/x-python",
   "name": "python",
   "nbconvert_exporter": "python",
   "pygments_lexer": "ipython3",
   "version": "3.11.6"
  }
 },
 "nbformat": 4,
 "nbformat_minor": 2
}
