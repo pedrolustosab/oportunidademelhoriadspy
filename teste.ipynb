{
 "cells": [
  {
   "cell_type": "code",
   "execution_count": null,
   "metadata": {},
   "outputs": [
    {
     "ename": "ModuleNotFoundError",
     "evalue": "No module named 'process_improvement'",
     "output_type": "error",
     "traceback": [
      "\u001b[1;31m---------------------------------------------------------------------------\u001b[0m",
      "\u001b[1;31mModuleNotFoundError\u001b[0m                       Traceback (most recent call last)",
      "Cell \u001b[1;32mIn[45], line 2\u001b[0m\n\u001b[0;32m      1\u001b[0m \u001b[38;5;66;03m# Example usage in another file\u001b[39;00m\n\u001b[1;32m----> 2\u001b[0m \u001b[38;5;28;01mfrom\u001b[39;00m \u001b[38;5;21;01mprocess_improvement\u001b[39;00m \u001b[38;5;28;01mimport\u001b[39;00m ProcessImprovementQA\n",
      "\u001b[1;31mModuleNotFoundError\u001b[0m: No module named 'process_improvement'"
     ]
    }
   ],
   "source": [
    "# Example usage in another file\n",
    "from process_improvement  import ProcessImprovementQA\n",
    "\n"
   ]
  },
  {
   "cell_type": "code",
   "execution_count": null,
   "metadata": {},
   "outputs": [],
   "source": [
    "# Initialize the system (optionally provide API key)\n",
    "qa_system = ProcessImprovementQA()\n",
    "\n",
    "# Your input data\n",
    "new_resultados = [\n",
    "    {\n",
    "        \"Oportunidade de Melhoria\": \"Example Opportunity\",\n",
    "        \"Solução\": \"Example Solution\",\n",
    "        \"Backlog de Atividades\": \"Task 1\\nTask 2\",\n",
    "        \"Investimento\": \"Investment details\",\n",
    "        \"Ganhos\": \"Benefits details\"\n",
    "    }\n",
    "]\n",
    "\n",
    "# Get improvement suggestion\n",
    "result = qa_system.get_improvement_suggestion(\n",
    "    new_resultados=new_resultados,\n",
    "    oportunidade_melhoria=\"New Improvement Opportunity\",\n",
    "    ramo_empresa=\"Financeiro\",\n",
    "    direcao=\"Pagar no prazo\",\n",
    "    nome_processo=\"Processo de Pagamentos\",\n",
    "    atividade=\"Pagamentos\",\n",
    "    evento=\"Captura de Informações de Pagamentos\",\n",
    "    causa=\"Pagamentos atrasados\"\n",
    ")\n",
    "\n",
    "print(result)"
   ]
  },
  {
   "cell_type": "code",
   "execution_count": 2,
   "metadata": {},
   "outputs": [],
   "source": [
    "# Load environment variables\n",
    "load_dotenv()\n",
    "\n",
    "# Retrieve API key securely\n",
    "OPENAI_API_KEY = os.getenv('OPENAI_API_KEY')\n",
    "if not OPENAI_API_KEY:\n",
    "    print(\"Error: OPENAI_API_KEY not found in environment variables.\")\n",
    "    sys.exit(1)"
   ]
  },
  {
   "cell_type": "code",
   "execution_count": 3,
   "metadata": {},
   "outputs": [],
   "source": [
    "openai_model = dspy.OpenAI(model='gpt-4o-mini', max_tokens=2048, temperature=0.2)\n",
    "dspy.settings.configure(lm=openai_model)"
   ]
  },
  {
   "cell_type": "code",
   "execution_count": 4,
   "metadata": {},
   "outputs": [],
   "source": [
    "ramo_empresa = 'Financeiro'\n",
    "direcao = 'Pagar no prazo'\n",
    "nome_processo = 'Processo de Pagamentos'\n",
    "atividade = 'Pagamentos'  \n",
    "evento = 'Captura de Informações de Pagamentos'\n",
    "causa = 'Pagamentos atrasados'\n",
    "\n",
    "new_resultados = []"
   ]
  },
  {
   "cell_type": "code",
   "execution_count": 5,
   "metadata": {},
   "outputs": [
    {
     "name": "stdout",
     "output_type": "stream",
     "text": [
      "OPENAI_API_KEY: SET\n",
      "WEAVIATE_CLUSTER_URL: https://nwa3ogdlqnmpwaezuw8bw.c0.us-east1.gcp.weaviate.cloud\n",
      "WEAVIATE_API_KEY: SET\n"
     ]
    },
    {
     "name": "stderr",
     "output_type": "stream",
     "text": [
      "c:\\Users\\PedroLustosa\\AppData\\Local\\Programs\\Python\\Python311\\Lib\\site-packages\\weaviate\\__init__.py:144: DeprecationWarning: Dep010: Importing AuthApiKey from weaviate is deprecated. Import AuthApiKey from its module: weaviate.auth\n",
      "  _Warnings.root_module_import(name, map_[name])\n"
     ]
    },
    {
     "name": "stdout",
     "output_type": "stream",
     "text": [
      "ERRO CARREGANDO MODELO: BaseModule.load() got an unexpected keyword argument 'use_legacy_loading'\n"
     ]
    },
    {
     "name": "stderr",
     "output_type": "stream",
     "text": [
      "WARNING:root:\t*** In DSPy 2.5, all LM clients except `dspy.LM` are deprecated. ***\n",
      " \t\tYou are using the client GPT3, which will be removed in DSPy 2.6.\n",
      " \t\tChanging the client is straightforward and will let you use new features (Adapters) that improve the consistency of LM outputs, especially when using chat LMs. \n",
      "\n",
      " \t\tLearn more about the changes and how to migrate at\n",
      " \t\thttps://github.com/stanfordnlp/dspy/blob/main/examples/migration.ipynb\n",
      "c:\\Users\\PedroLustosa\\AppData\\Local\\Programs\\Python\\Python311\\Lib\\site-packages\\langsmith\\client.py:323: LangSmithMissingAPIKeyWarning: API key must be provided when using hosted LangSmith API\n",
      "  warnings.warn(\n",
      "c:\\Users\\PedroLustosa\\OneDrive - Grupo Portfolio\\Consulting - Business Intelligence\\01. Projetos Ativos\\DS&IA\\Oportunidades de melhoria\\OM_DSPy\\transform_input_to_df.py:32: LangChainDeprecationWarning: The function `initialize_agent` was deprecated in LangChain 0.1.0 and will be removed in 1.0. Use :meth:`~Use new agent constructor methods like create_react_agent, create_json_agent, create_structured_chat_agent, etc.` instead.\n",
      "  agent = initialize_agent(\n",
      "c:\\Users\\PedroLustosa\\OneDrive - Grupo Portfolio\\Consulting - Business Intelligence\\01. Projetos Ativos\\DS&IA\\Oportunidades de melhoria\\OM_DSPy\\transform_input_to_df.py:81: LangChainDeprecationWarning: The method `Chain.run` was deprecated in langchain 0.1.0 and will be removed in 1.0. Use :meth:`~invoke` instead.\n",
      "  response = agent.run(question)\n"
     ]
    },
    {
     "name": "stdout",
     "output_type": "stream",
     "text": [
      "\n",
      "\n",
      "> Entering new AgentExecutor chain...\n",
      "Para transformar os dados fornecidos em uma lista de dicionários, vou estruturar cada oportunidade de melhoria com suas respectivas informações. \n",
      "\n",
      "Action: Python_REPL  \n",
      "Action Input: \n",
      "[\n",
      "    {\n",
      "        \"Oportunidade de Melhoria\": \"Automatização de Captura de Informações de Pagamentos\",\n",
      "        \"Solução\": \"Desenvolver uma integração com o sistema bancário para captura automática de informações sobre pagamentos realizados e recusados.\",\n",
      "        \"Backlog de Atividades\": \"Implementar API de integração com bancos\\nConfigurar notificações automáticas\\nRealizar testes de integração\",\n",
      "        \"Investimento\": \"Horas para desenvolvimento de customizações e implantação do projeto.\",\n",
      "        \"Ganhos\": \"Automação de atividades manuais e repetitivas\\nMaior agilidade no processo\\nRedução do risco de erros operacionais\\nSimplificação da disseminação de informações entre as partes interessadas.\"\n",
      "    },\n",
      "    {\n",
      "        \"Oportunidade de Melhoria\": \"Revisão de Acordo de Nível de Serviço (SLAs)\",\n",
      "        \"Solução\": \"Realizar revisão de SLAs definindo possíveis indicadores de acompanhamento para o processo de pagamentos.\",\n",
      "        \"Backlog de Atividades\": \"Analisar SLAs atuais\\nDefinir novos indicadores de desempenho\\nTreinar equipe sobre os novos padrões.\",\n",
      "        \"Investimento\": \"Tempo de consultoria para análise e definição de SLAs.\",\n",
      "        \"Ganhos\": \"Melhoria no monitoramento do processo\\nIdentificação precoce de atrasos\\nAumento da satisfação dos stakeholders.\"\n",
      "    },\n",
      "    {\n",
      "        \"Oportunidade de Melhoria\": \"Padronização de Entrega de Documentos\",\n",
      "        \"Solução\": \"Padronizar as atividades relacionadas à entrega de documentos para pagamento, conforme a digitalização do contas a pagar.\",\n",
      "        \"Backlog de Atividades\": \"Criar um manual de procedimentos\\nTreinar a equipe\\nImplementar um sistema de controle de documentos digital.\",\n",
      "        \"Investimento\": \"Desenvolvimento de documentação e treinamento.\",\n",
      "        \"Ganhos\": \"Redução de erros na entrega de documentos\\nMaior eficiência no processo\\nMelhor controle de documentos.\"\n",
      "    },\n",
      "    {\n",
      "        \"Oportunidade de Melhoria\": \"Parametrização de Prazos de Pagamento\",\n",
      "        \"Solução\": \"Parametrizar o sistema para ajustar prazos de pagamento conforme vencimentos dos clientes.\",\n",
      "        \"Backlog de Atividades\": \"Configurar sistema para parametrização de prazos\\nRealizar testes de funcionalidade\\nTreinar equipe.\",\n",
      "        \"Investimento\": \"Horas de configuração de sistema e treinamento.\",\n",
      "        \"Ganhos\": \"Alinhamento dos prazos de pagamento com as condições contratuais\\nRedução de atrasos\\nMelhor gestão de fluxo de caixa.\"\n",
      "    },\n",
      "    {\n",
      "        \"Oportunidade de Melhoria\": \"Determinação de Prazos para Envio de Documentos\",\n",
      "        \"Solução\": \"Determinar prazo para envio de notas fiscais/boletos das outras unidades e formalizar a obrigação do envio no dia seguinte ao recebimento.\",\n",
      "        \"Backlog de Atividades\": \"Definir prazos\\nComunicar às unidades\\nMonitorar cumprimento.\",\n",
      "        \"Investimento\": \"Comunicação e monitoramento contínuo.\",\n",
      "        \"Ganhos\": \"Redução de atrasos no processamento de pagamentos\\nMaior previsibilidade no fluxo de caixa.\"\n",
      "    },\n",
      "    {\n",
      "        \"Oportunidade de Melhoria\": \"Automatização de Rotina de Pedido Financeiro\",\n",
      "        \"Solução\": \"Automatizar rotina de pedidos financeiros para pagamentos recorrentes com alçadas de aprovação.\",\n",
      "        \"Backlog de Atividades\": \"Desenvolver sistema de automação\\nDefinir alçadas de aprovação\\nRealizar testes.\",\n",
      "        \"Investimento\": \"Desenvolvimento de software e configuração de processos.\",\n",
      "        \"Ganhos\": \"Redução de tempo gasto em aprovações manuais\\nMaior controle sobre pagamentos recorrentes.\"\n",
      "    },\n",
      "    {\n",
      "        \"Oportunidade de Melhoria\": \"Alteração de Prazo para Lançamento de NF\",\n",
      "        \"Solução\": \"Alterar prazo de 96h para lançamento de notas fiscais que geram obrigação a pagar.\",\n",
      "        \"Backlog de Atividades\": \"Revisar processos internos\\nComunicar mudanças à equipe\\nAjustar sistemas.\",\n",
      "        \"Investimento\": \"Revisão de processos e comunicação interna.\",\n",
      "        \"Ganhos\": \"Aumento da eficiência no processamento de notas fiscais\\nRedução de atrasos.\"\n",
      "    },\n",
      "    {\n",
      "        \"Oportunidade de Melhoria\": \"Definição de Horário para Realização de Pagamentos\",\n",
      "        \"Solução\": \"Definir horário específico para realização de pagamentos diários.\",\n",
      "        \"Backlog de Atividades\": \"Estabelecer horários\\nComunicar à equipe\\nMonitorar adesão.\",\n",
      "        \"Investimento\": \"Planejamento e comunicação.\",\n",
      "        \"Ganhos\": \"Maior organização no fluxo de pagamentos\\nRedução de erros devido a pagamentos fora de horário.\"\n",
      "    },\n",
      "    {\n",
      "        \"Oportunidade de Melhoria\": \"Uso de Sistema Gama Soft para Visualização de Notas\",\n",
      "        \"Solução\": \"Fiscal utilizar o sistema Gama Soft para visualizar as notas geradas.\",\n",
      "        \"Backlog de Atividades\": \"Treinar equipe no uso do sistema\\nIntegrar sistema com outros processos\\nMonitorar uso.\",\n",
      "        \"Investimento\": \"Treinamento e integração de sistemas.\",\n",
      "        \"Ganhos\": \"Maior visibilidade sobre notas fiscais\\nRedução de erros de processamento.\"\n",
      "    },\n",
      "    {\n",
      "        \"Oportunidade de Melhoria\": \"Treinamento Contínuo da Equipe\",\n",
      "        \"Solução\": \"Implementar programa de treinamento contínuo para a equipe de pagamentos.\",\n",
      "        \"Backlog de Atividades\": \"Desenvolver conteúdo de treinamento\\nAgendar sessões regulares\\nAvaliar eficácia.\",\n",
      "        \"Investimento\": \"Desenvolvimento de conteúdo e tempo de treinamento.\",\n",
      "        \"Ganhos\": \"Equipe mais capacitada\\nRedução de erros operacionais\\nMaior eficiência no processo de pagamentos.\"\n",
      "    }\n",
      "]"
     ]
    },
    {
     "name": "stderr",
     "output_type": "stream",
     "text": [
      "WARNING:langchain_experimental.utilities.python:Python REPL can execute arbitrary code. Use with caution.\n"
     ]
    },
    {
     "name": "stdout",
     "output_type": "stream",
     "text": [
      "\n",
      "Observation: \n",
      "Thought:I now know the final answer\n",
      "Final Answer: [\n",
      "    {\n",
      "        \"Oportunidade de Melhoria\": \"Automatização de Captura de Informações de Pagamentos\",\n",
      "        \"Solução\": \"Desenvolver uma integração com o sistema bancário para captura automática de informações sobre pagamentos realizados e recusados.\",\n",
      "        \"Backlog de Atividades\": \"Implementar API de integração com bancos\\nConfigurar notificações automáticas\\nRealizar testes de integração\",\n",
      "        \"Investimento\": \"Horas para desenvolvimento de customizações e implantação do projeto.\",\n",
      "        \"Ganhos\": \"Automação de atividades manuais e repetitivas\\nMaior agilidade no processo\\nRedução do risco de erros operacionais\\nSimplificação da disseminação de informações entre as partes interessadas.\"\n",
      "    },\n",
      "    {\n",
      "        \"Oportunidade de Melhoria\": \"Revisão de Acordo de Nível de Serviço (SLAs)\",\n",
      "        \"Solução\": \"Realizar revisão de SLAs definindo possíveis indicadores de acompanhamento para o processo de pagamentos.\",\n",
      "        \"Backlog de Atividades\": \"Analisar SLAs atuais\\nDefinir novos indicadores de desempenho\\nTreinar equipe sobre os novos padrões.\",\n",
      "        \"Investimento\": \"Tempo de consultoria para análise e definição de SLAs.\",\n",
      "        \"Ganhos\": \"Melhoria no monitoramento do processo\\nIdentificação precoce de atrasos\\nAumento da satisfação dos stakeholders.\"\n",
      "    },\n",
      "    {\n",
      "        \"Oportunidade de Melhoria\": \"Padronização de Entrega de Documentos\",\n",
      "        \"Solução\": \"Padronizar as atividades relacionadas à entrega de documentos para pagamento, conforme a digitalização do contas a pagar.\",\n",
      "        \"Backlog de Atividades\": \"Criar um manual de procedimentos\\nTreinar a equipe\\nImplementar um sistema de controle de documentos digital.\",\n",
      "        \"Investimento\": \"Desenvolvimento de documentação e treinamento.\",\n",
      "        \"Ganhos\": \"Redução de erros na entrega de documentos\\nMaior eficiência no processo\\nMelhor controle de documentos.\"\n",
      "    },\n",
      "    {\n",
      "        \"Oportunidade de Melhoria\": \"Parametrização de Prazos de Pagamento\",\n",
      "        \"Solução\": \"Parametrizar o sistema para ajustar prazos de pagamento conforme vencimentos dos clientes.\",\n",
      "        \"Backlog de Atividades\": \"Configurar sistema para parametrização de prazos\\nRealizar testes de funcionalidade\\nTreinar equipe.\",\n",
      "        \"Investimento\": \"Horas de configuração de sistema e treinamento.\",\n",
      "        \"Ganhos\": \"Alinhamento dos prazos de pagamento com as condições contratuais\\nRedução de atrasos\\nMelhor gestão de fluxo de caixa.\"\n",
      "    },\n",
      "    {\n",
      "        \"Oportunidade de Melhoria\": \"Determinação de Prazos para Envio de Documentos\",\n",
      "        \"Solução\": \"Determinar prazo para envio de notas fiscais/boletos das outras unidades e formalizar a obrigação do envio no dia seguinte ao recebimento.\",\n",
      "        \"Backlog de Atividades\": \"Definir prazos\\nComunicar às unidades\\nMonitorar cumprimento.\",\n",
      "        \"Investimento\": \"Comunicação e monitoramento contínuo.\",\n",
      "        \"Ganhos\": \"Redução de atrasos no processamento de pagamentos\\nMaior previsibilidade no fluxo de caixa.\"\n",
      "    },\n",
      "    {\n",
      "        \"Oportunidade de Melhoria\": \"Automatização de Rotina de Pedido Financeiro\",\n",
      "        \"Solução\": \"Automatizar rotina de pedidos financeiros para pagamentos recorrentes com alçadas de aprovação.\",\n",
      "        \"Backlog de Atividades\": \"Desenvolver sistema de automação\\nDefinir alçadas de aprovação\\nRealizar testes.\",\n",
      "        \"Investimento\": \"Desenvolvimento de software e configuração de processos.\",\n",
      "        \"Ganhos\": \"Redução de tempo gasto em aprovações manuais\\nMaior controle sobre pagamentos recorrentes.\"\n",
      "    },\n",
      "    {\n",
      "        \"Oportunidade de Melhoria\": \"Alteração de Prazo para Lançamento de NF\",\n",
      "        \"Solução\": \"Alterar prazo de 96h para lançamento de notas fiscais que geram obrigação a pagar.\",\n",
      "        \"Backlog de Atividades\": \"Revisar processos internos\\nComunicar mudanças à equipe\\nAjustar sistemas.\",\n",
      "        \"Investimento\": \"Revisão de processos e comunicação interna.\",\n",
      "        \"Ganhos\": \"Aumento da eficiência no processamento de notas fiscais\\nRedução de atrasos.\"\n",
      "    },\n",
      "    {\n",
      "        \"Oportunidade de Melhoria\": \"Definição de Horário para Realização de Pagamentos\",\n",
      "        \"Solução\": \"Definir horário específico para realização de pagamentos diários.\",\n",
      "        \"Backlog de Atividades\": \"Estabelecer horários\\nComunicar à equipe\\nMonitorar adesão.\",\n",
      "        \"Investimento\": \"Planejamento e comunicação.\",\n",
      "        \"Ganhos\": \"Maior organização no fluxo de pagamentos\\nRedução de erros devido a pagamentos fora de horário.\"\n",
      "    },\n",
      "    {\n",
      "        \"Oportunidade de Melhoria\": \"Uso de Sistema Gama Soft para Visualização de Notas\",\n",
      "        \"Solução\": \"Fiscal utilizar o sistema Gama Soft para visualizar as notas geradas.\",\n",
      "        \"Backlog de Atividades\": \"Treinar equipe no uso do sistema\\nIntegrar sistema com outros processos\\nMonitorar uso.\",\n",
      "        \"Investimento\": \"Treinamento e integração de sistemas.\",\n",
      "        \"Ganhos\": \"Maior visibilidade sobre notas fiscais\\nRedução de erros de processamento.\"\n",
      "    },\n",
      "    {\n",
      "        \"Oportunidade de Melhoria\": \"Treinamento Contínuo da Equipe\",\n",
      "        \"Solução\": \"Implementar programa de treinamento contínuo para a equipe de pagamentos.\",\n",
      "        \"Backlog de Atividades\": \"Desenvolver conteúdo de treinamento\\nAgendar sessões regulares\\nAvaliar eficácia.\",\n",
      "        \"Investimento\": \"Desenvolvimento de conteúdo e tempo de treinamento.\",\n",
      "        \"Ganhos\": \"Equipe mais capacitada\\nRedução de erros operacionais\\nMaior eficiência no processo de pagamentos.\"\n",
      "    }\n",
      "]\n",
      "\n",
      "> Finished chain.\n"
     ]
    },
    {
     "data": {
      "text/plain": [
       "[                            Oportunidade de Melhoria  \\\n",
       " 0  Automatização de Captura de Informações de Pag...   \n",
       " 1       Revisão de Acordo de Nível de Serviço (SLAs)   \n",
       " 2              Padronização de Entrega de Documentos   \n",
       " 3              Parametrização de Prazos de Pagamento   \n",
       " 4    Determinação de Prazos para Envio de Documentos   \n",
       " 5       Automatização de Rotina de Pedido Financeiro   \n",
       " 6           Alteração de Prazo para Lançamento de NF   \n",
       " 7  Definição de Horário para Realização de Pagame...   \n",
       " 8  Uso de Sistema Gama Soft para Visualização de ...   \n",
       " 9                     Treinamento Contínuo da Equipe   \n",
       " \n",
       "                                              Solução  \\\n",
       " 0  Desenvolver uma integração com o sistema bancá...   \n",
       " 1  Realizar revisão de SLAs definindo possíveis i...   \n",
       " 2  Padronizar as atividades relacionadas à entreg...   \n",
       " 3  Parametrizar o sistema para ajustar prazos de ...   \n",
       " 4  Determinar prazo para envio de notas fiscais/b...   \n",
       " 5  Automatizar rotina de pedidos financeiros para...   \n",
       " 6  Alterar prazo de 96h para lançamento de notas ...   \n",
       " 7  Definir horário específico para realização de ...   \n",
       " 8  Fiscal utilizar o sistema Gama Soft para visua...   \n",
       " 9  Implementar programa de treinamento contínuo p...   \n",
       " \n",
       "                                Backlog de Atividades  \\\n",
       " 0  Implementar API de integração com bancos\\nConf...   \n",
       " 1  Analisar SLAs atuais\\nDefinir novos indicadore...   \n",
       " 2  Criar um manual de procedimentos\\nTreinar a eq...   \n",
       " 3  Configurar sistema para parametrização de praz...   \n",
       " 4  Definir prazos\\nComunicar às unidades\\nMonitor...   \n",
       " 5  Desenvolver sistema de automação\\nDefinir alça...   \n",
       " 6  Revisar processos internos\\nComunicar mudanças...   \n",
       " 7  Estabelecer horários\\nComunicar à equipe\\nMoni...   \n",
       " 8  Treinar equipe no uso do sistema\\nIntegrar sis...   \n",
       " 9  Desenvolver conteúdo de treinamento\\nAgendar s...   \n",
       " \n",
       "                                         Investimento  \\\n",
       " 0  Horas para desenvolvimento de customizações e ...   \n",
       " 1  Tempo de consultoria para análise e definição ...   \n",
       " 2     Desenvolvimento de documentação e treinamento.   \n",
       " 3    Horas de configuração de sistema e treinamento.   \n",
       " 4              Comunicação e monitoramento contínuo.   \n",
       " 5  Desenvolvimento de software e configuração de ...   \n",
       " 6        Revisão de processos e comunicação interna.   \n",
       " 7                        Planejamento e comunicação.   \n",
       " 8              Treinamento e integração de sistemas.   \n",
       " 9  Desenvolvimento de conteúdo e tempo de treinam...   \n",
       " \n",
       "                                               Ganhos    Direcionador  \n",
       " 0  Automação de atividades manuais e repetitivas\\...  Pagar no prazo  \n",
       " 1  Melhoria no monitoramento do processo\\nIdentif...  Pagar no prazo  \n",
       " 2  Redução de erros na entrega de documentos\\nMai...  Pagar no prazo  \n",
       " 3  Alinhamento dos prazos de pagamento com as con...  Pagar no prazo  \n",
       " 4  Redução de atrasos no processamento de pagamen...  Pagar no prazo  \n",
       " 5  Redução de tempo gasto em aprovações manuais\\n...  Pagar no prazo  \n",
       " 6  Aumento da eficiência no processamento de nota...  Pagar no prazo  \n",
       " 7  Maior organização no fluxo de pagamentos\\nRedu...  Pagar no prazo  \n",
       " 8  Maior visibilidade sobre notas fiscais\\nReduçã...  Pagar no prazo  \n",
       " 9  Equipe mais capacitada\\nRedução de erros opera...  Pagar no prazo  ]"
      ]
     },
     "execution_count": 5,
     "metadata": {},
     "output_type": "execute_result"
    }
   ],
   "source": [
    "processo = f\"\"\"ramo_empresa: {ramo_empresa}, direcionadores: {direcao}, nome_do_processo: {nome_processo}, atividade: {atividade}, evento: {evento}, causa: {causa}\"\"\"\n",
    "analyst = run_agent_analysis(processo)\n",
    "analyst['Direcionador'] = direcao\n",
    "new_resultados.append(analyst)\n",
    "\n",
    "new_resultados"
   ]
  },
  {
   "cell_type": "code",
   "execution_count": null,
   "metadata": {},
   "outputs": [],
   "source": [
    "context = \"\"\"\n",
    "- Gerente Sênior de Transformação de Processos, com +15 anos de experiência em consultoria empresarial.\n",
    "- Certificações: PMP, Lean Six Sigma Black Belt, ITIL Expert.\n",
    "- Abordagem sistemática para melhorias organizacionais.\n",
    "***Diretrizes para Análise:***\n",
    "1. Identificar ineficiências e gargalos.\n",
    "2. Propor soluções estratégicas e viáveis.\n",
    "3. Elaborar plano detalhado de implementação.\n",
    "4. Estimar impacto econômico e operacional.\n",
    "5. Alinhar com objetivos organizacionais.\n",
    "***Escopo:***\n",
    "- Avaliar criticamente processos.\n",
    "- Propor inovações práticas.\n",
    "- Estimar investimento e retorno.\n",
    "- Criar roadmap claro.\n",
    "\"\"\""
   ]
  },
  {
   "cell_type": "code",
   "execution_count": 38,
   "metadata": {},
   "outputs": [],
   "source": [
    "def create_train_examples(new_resultados, context, direcao):\n",
    "    \"\"\"\n",
    "    Transforms a list of dictionaries into a list of dspy.Example objects.\n",
    "\n",
    "    Args:\n",
    "        new_resultados (list): List of dictionaries with data.\n",
    "        context (str): The context string for the example.\n",
    "        direcao (str): The direction string for the example.\n",
    "\n",
    "    Returns:\n",
    "        list: A list of dspy.Example objects.\n",
    "    \"\"\"\n",
    "    return [\n",
    "        dspy.Example(\n",
    "            context=context,\n",
    "            question=f\"Oportunidade de Melhoria: {resultado['Oportunidade de Melhoria']}, Direcionadores: {direcao}\",\n",
    "            answer=f\"\"\"[\n",
    "                {{\n",
    "                    \"Solução\": \"{resultado['Solução']}\",\n",
    "                    \"Backlog de Atividades\": \"{resultado['Backlog de Atividades']}\",\n",
    "                    \"Investimento\": \"{resultado['Investimento']}\",\n",
    "                    \"Ganhos\": \"{resultado['Ganhos']}\"\n",
    "                }}\n",
    "            ]\"\"\"\n",
    "        )\n",
    "        for resultado in new_resultados\n",
    "    ]\n",
    "\n"
   ]
  },
  {
   "cell_type": "code",
   "execution_count": 39,
   "metadata": {},
   "outputs": [],
   "source": [
    "# Transform data\n",
    "train_examples = create_train_examples(new_resultados, context, direcao)\n"
   ]
  },
  {
   "cell_type": "code",
   "execution_count": 40,
   "metadata": {},
   "outputs": [
    {
     "data": {
      "text/plain": [
       "Example({'context': 'Contexto Profissional:\\n- Gerente Sênior de Transformação de Processos, com +15 anos de experiência em consultoria empresarial.\\n- Certificações: PMP, Lean Six Sigma Black Belt, ITIL Expert.\\n- Abordagem sistemática para melhorias organizacionais.\\n\\nDiretrizes para Análise:\\n1. Identificar ineficiências e gargalos.\\n2. Propor soluções estratégicas e viáveis.\\n3. Elaborar plano detalhado de implementação.\\n4. Estimar impacto econômico e operacional.\\n5. Alinhar com objetivos organizacionais.\\n\\nEscopo:\\n- Avaliar criticamente processos.\\n- Propor inovações práticas.\\n- Estimar investimento e retorno.\\n- Criar roadmap claro.\\n\\nCompetências:\\n- Pensamento analítico e estratégico.\\n- Conhecimento em tecnologia e processos.\\n- Comunicação e gestão de mudanças.', 'question': 'Oportunidade de Melhoria: Melhorar a captura de dados de pagamentos., Direcionadores: Otimização de processos financeiros', 'answer': '[\\n                {\\n                    \"Solução\": \"Desenvolver uma integração com o sistema bancário para captura automática de informações sobre pagamentos realizados e recusados.\",\\n                    \"Backlog de Atividades\": \"Implementar API de integração com bancos\\nConfigurar notificações automáticas\\nRealizar testes de integração\",\\n                    \"Investimento\": \"Horas para desenvolvimento de customizações e implantação do projeto.\",\\n                    \"Ganhos\": \"Automação de atividades manuais e repetitivas\\nMaior agilidade no processo\\nRedução do risco de erros operacionais\\nSimplificação da disseminação de informações entre as partes interessadas.\"\\n                }\\n            ]'}) (input_keys=None)"
      ]
     },
     "execution_count": 40,
     "metadata": {},
     "output_type": "execute_result"
    }
   ],
   "source": [
    "train_examples[0]"
   ]
  },
  {
   "cell_type": "code",
   "execution_count": 41,
   "metadata": {},
   "outputs": [],
   "source": [
    "# Define a signature for our QA task\n",
    "class QuestionAnswerSignature(dspy.Signature):\n",
    "    \"\"\"Extract precise answers from given context\"\"\"\n",
    "    context = dspy.InputField(desc=\"Background information\")\n",
    "    question = dspy.InputField(desc=\"Specific query\")\n",
    "    answer = dspy.OutputField(desc=\"Concise, accurate response\")\n",
    "    \n",
    "    \n",
    "class QuestionAnswerModule(dspy.Module):\n",
    "    def __init__(self):\n",
    "        super().__init__()\n",
    "        self.predictor = dspy.ChainOfThought(QuestionAnswerSignature)\n",
    "    \n",
    "    def forward(self, context, question):\n",
    "        return self.predictor(context=context, question=question)"
   ]
  },
  {
   "cell_type": "code",
   "execution_count": 42,
   "metadata": {},
   "outputs": [
    {
     "name": "stderr",
     "output_type": "stream",
     "text": [
      "  0%|          | 0/2 [00:00<?, ?it/s]ERROR:dspy.teleprompt.bootstrap:2024-12-02T13:20:57.144583Z [error    ] Failed to run or to evaluate example Example({'context': 'Contexto Profissional:\\n- Gerente Sênior de Transformação de Processos, com +15 anos de experiência em consultoria empresarial.\\n- Certificações: PMP, Lean Six Sigma Black Belt, ITIL Expert.\\n- Abordagem sistemática para melhorias organizacionais.\\n\\nDiretrizes para Análise:\\n1. Identificar ineficiências e gargalos.\\n2. Propor soluções estratégicas e viáveis.\\n3. Elaborar plano detalhado de implementação.\\n4. Estimar impacto econômico e operacional.\\n5. Alinhar com objetivos organizacionais.\\n\\nEscopo:\\n- Avaliar criticamente processos.\\n- Propor inovações práticas.\\n- Estimar investimento e retorno.\\n- Criar roadmap claro.\\n\\nCompetências:\\n- Pensamento analítico e estratégico.\\n- Conhecimento em tecnologia e processos.\\n- Comunicação e gestão de mudanças.', 'question': 'Oportunidade de Melhoria: Melhorar a captura de dados de pagamentos., Direcionadores: Otimização de processos financeiros', 'answer': '[\\n                {\\n                    \"Solução\": \"Desenvolver uma integração com o sistema bancário para captura automática de informações sobre pagamentos realizados e recusados.\",\\n                    \"Backlog de Atividades\": \"Implementar API de integração com bancos\\nConfigurar notificações automáticas\\nRealizar testes de integração\",\\n                    \"Investimento\": \"Horas para desenvolvimento de customizações e implantação do projeto.\",\\n                    \"Ganhos\": \"Automação de atividades manuais e repetitivas\\nMaior agilidade no processo\\nRedução do risco de erros operacionais\\nSimplificação da disseminação de informações entre as partes interessadas.\"\\n                }\\n            ]'}) (input_keys=None) with <function validate_answer at 0x0000020C8D08EB60> due to Inputs have not been set for this example. Use `example.with_inputs()` to set them.. [dspy.teleprompt.bootstrap] filename=bootstrap.py lineno=211\n",
      "ERROR:dspy.teleprompt.bootstrap:2024-12-02T13:20:57.180002Z [error    ] Failed to run or to evaluate example Example({'context': 'Contexto Profissional:\\n- Gerente Sênior de Transformação de Processos, com +15 anos de experiência em consultoria empresarial.\\n- Certificações: PMP, Lean Six Sigma Black Belt, ITIL Expert.\\n- Abordagem sistemática para melhorias organizacionais.\\n\\nDiretrizes para Análise:\\n1. Identificar ineficiências e gargalos.\\n2. Propor soluções estratégicas e viáveis.\\n3. Elaborar plano detalhado de implementação.\\n4. Estimar impacto econômico e operacional.\\n5. Alinhar com objetivos organizacionais.\\n\\nEscopo:\\n- Avaliar criticamente processos.\\n- Propor inovações práticas.\\n- Estimar investimento e retorno.\\n- Criar roadmap claro.\\n\\nCompetências:\\n- Pensamento analítico e estratégico.\\n- Conhecimento em tecnologia e processos.\\n- Comunicação e gestão de mudanças.', 'question': 'Oportunidade de Melhoria: TTTTTTTTTTTTTT., Direcionadores: Otimização de processos financeiros', 'answer': '[\\n                {\\n                    \"Solução\": \"Desenvolver uma integração com o sistema bancário para captura automática de informações sobre pagamentos realizados e recusados.\",\\n                    \"Backlog de Atividades\": \"Implementar API de integração com bancos\\nConfigurar notificações automáticas\\nRealizar testes de integração\",\\n                    \"Investimento\": \"Horas para desenvolvimento de customizações e implantação do projeto.\",\\n                    \"Ganhos\": \"Automação de atividades manuais e repetitivas\\nMaior agilidade no processo\\nRedução do risco de erros operacionais\\nSimplificação da disseminação de informações entre as partes interessadas.\"\\n                }\\n            ]'}) (input_keys=None) with <function validate_answer at 0x0000020C8D08EB60> due to Inputs have not been set for this example. Use `example.with_inputs()` to set them.. [dspy.teleprompt.bootstrap] filename=bootstrap.py lineno=211\n",
      "100%|██████████| 2/2 [00:00<00:00, 23.33it/s]\n"
     ]
    },
    {
     "name": "stdout",
     "output_type": "stream",
     "text": [
      "Bootstrapped 0 full traces after 2 examples in round 0.\n"
     ]
    }
   ],
   "source": [
    "# Validation function\n",
    "def validate_answer(example, pred, trace=None):\n",
    "    return (\n",
    "        isinstance(pred, Prediction) and \n",
    "        pred.answer and \n",
    "        0 < len(pred.answer) < 200\n",
    "    )\n",
    "\n",
    "# Optimize with few-shot learning\n",
    "teleprompter = BootstrapFewShot(\n",
    "    metric=validate_answer,\n",
    "    max_bootstrapped_demos=4\n",
    ")\n",
    "\n",
    "# Compile the module\n",
    "compiled_qa_module = teleprompter.compile(\n",
    "    QuestionAnswerModule(), \n",
    "    trainset=train_examples\n",
    ")"
   ]
  },
  {
   "cell_type": "code",
   "execution_count": 44,
   "metadata": {},
   "outputs": [
    {
     "name": "stdout",
     "output_type": "stream",
     "text": [
      "Answer: [ { \"Solução\": \"Estabelecer um cronograma fixo para a execução de processos financeiros críticos, garantindo que os pagamentos sejam realizados dentro do prazo.\", \"Backlog de Atividades\": \"Analisar o fluxo atual de processos financeiros Identificar horários de pico e gargalos Definir e comunicar o novo cronograma de execução\", \"Investimento\": \"Tempo para análise e reestruturação do cronograma atual.\", \"Ganhos\": \"Melhoria na pontualidade dos pagamentos Redução de gargalos operacionais Maior previsibilidade e controle sobre o fluxo de caixa.\" } ]\n"
     ]
    }
   ],
   "source": [
    "question = \"Oportunidade de Melhoria: Definição de Horário para Realização de Processos, Direcionadores: Pagamento no prazo \"\n",
    "\n",
    "# Generate answer\n",
    "prediction = compiled_qa_module(context=context, question=question)\n",
    "\n",
    "print(f\"Answer: {prediction.answer}\")"
   ]
  }
 ],
 "metadata": {
  "kernelspec": {
   "display_name": "Python 3",
   "language": "python",
   "name": "python3"
  },
  "language_info": {
   "codemirror_mode": {
    "name": "ipython",
    "version": 3
   },
   "file_extension": ".py",
   "mimetype": "text/x-python",
   "name": "python",
   "nbconvert_exporter": "python",
   "pygments_lexer": "ipython3",
   "version": "3.11.6"
  }
 },
 "nbformat": 4,
 "nbformat_minor": 2
}
